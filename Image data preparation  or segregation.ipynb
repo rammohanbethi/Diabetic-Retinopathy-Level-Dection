{
 "cells": [
  {
   "cell_type": "code",
   "execution_count": 1,
   "metadata": {},
   "outputs": [],
   "source": [
    "import numpy as np # linear algebra\n",
    "import pandas as pd # data processing, CSV file I/O (e.g. pd.read_csv)\n",
    "\n",
    "# Input data files are available in the \"../input/\" directory.\n",
    "# For example, running this (by clicking run or pressing Shift+Enter) will list the files in the input directory\n",
    "import shutil\n",
    "import sys\n",
    "import os"
   ]
  },
  {
   "cell_type": "code",
   "execution_count": 25,
   "metadata": {},
   "outputs": [
    {
     "name": "stdout",
     "output_type": "stream",
     "text": [
      "(3662, 2)\n",
      "(1928, 1)\n"
     ]
    },
    {
     "data": {
      "text/html": [
       "<div>\n",
       "<style scoped>\n",
       "    .dataframe tbody tr th:only-of-type {\n",
       "        vertical-align: middle;\n",
       "    }\n",
       "\n",
       "    .dataframe tbody tr th {\n",
       "        vertical-align: top;\n",
       "    }\n",
       "\n",
       "    .dataframe thead th {\n",
       "        text-align: right;\n",
       "    }\n",
       "</style>\n",
       "<table border=\"1\" class=\"dataframe\">\n",
       "  <thead>\n",
       "    <tr style=\"text-align: right;\">\n",
       "      <th></th>\n",
       "      <th>id_code</th>\n",
       "      <th>diagnosis</th>\n",
       "    </tr>\n",
       "  </thead>\n",
       "  <tbody>\n",
       "    <tr>\n",
       "      <th>0</th>\n",
       "      <td>000c1434d8d7</td>\n",
       "      <td>2</td>\n",
       "    </tr>\n",
       "    <tr>\n",
       "      <th>1</th>\n",
       "      <td>001639a390f0</td>\n",
       "      <td>4</td>\n",
       "    </tr>\n",
       "    <tr>\n",
       "      <th>2</th>\n",
       "      <td>0024cdab0c1e</td>\n",
       "      <td>1</td>\n",
       "    </tr>\n",
       "    <tr>\n",
       "      <th>3</th>\n",
       "      <td>002c21358ce6</td>\n",
       "      <td>0</td>\n",
       "    </tr>\n",
       "    <tr>\n",
       "      <th>4</th>\n",
       "      <td>005b95c28852</td>\n",
       "      <td>0</td>\n",
       "    </tr>\n",
       "  </tbody>\n",
       "</table>\n",
       "</div>"
      ],
      "text/plain": [
       "        id_code  diagnosis\n",
       "0  000c1434d8d7          2\n",
       "1  001639a390f0          4\n",
       "2  0024cdab0c1e          1\n",
       "3  002c21358ce6          0\n",
       "4  005b95c28852          0"
      ]
     },
     "execution_count": 25,
     "metadata": {},
     "output_type": "execute_result"
    }
   ],
   "source": [
    "train_data = pd.read_csv(r'D:\\Rammohan\\AI ML Projects\\Diabetic\\Dataset\\train.csv')\n",
    "test_data = pd.read_csv(r'D:\\Rammohan\\AI ML Projects\\Diabetic\\Dataset\\test.csv')\n",
    "print(train_data.shape)\n",
    "print(test_data.shape)\n",
    "train_data.head()"
   ]
  },
  {
   "cell_type": "code",
   "execution_count": 26,
   "metadata": {},
   "outputs": [],
   "source": [
    "id_0=[]\n",
    "\n",
    "for a in train_data[train_data['diagnosis']==0]['id_code']:\n",
    "    id_0.append(a)\n",
    "    \n",
    "id_1=[]\n",
    "for b in train_data[train_data['diagnosis']==1]['id_code']:\n",
    "    id_1.append(b)\n",
    "    \n",
    "id_2=[]\n",
    "for c in train_data[train_data['diagnosis']==2]['id_code']:\n",
    "    id_2.append(c)\n",
    "    \n",
    "id_3=[]\n",
    "for d in train_data[train_data['diagnosis']==3]['id_code']:\n",
    "    id_3.append(d)\n",
    "    \n",
    "id_4=[]\n",
    "for e in train_data[train_data['diagnosis']==4]['id_code']:\n",
    "    id_4.append(e)"
   ]
  },
  {
   "cell_type": "code",
   "execution_count": 37,
   "metadata": {},
   "outputs": [],
   "source": [
    "train_dir = r'D:\\Rammohan\\AI ML Projects\\Diabetic\\Dataset\\train_images/'\n",
    "\n",
    "if not os.path.exists(\"train_split\" + \"1\"):\n",
    "        os.mkdir(\"train_split\" + \"1\")\n",
    "for i in id_1:\n",
    "    src_path = train_dir + i + \".png\"\n",
    "    dst_path = \"train_split\" + \"1\" + \"/\" + i + \".png\"\n",
    "    shutil.copy(src_path, dst_path)"
   ]
  },
  {
   "cell_type": "code",
   "execution_count": 38,
   "metadata": {},
   "outputs": [],
   "source": [
    "train_dir = r'D:\\Rammohan\\AI ML Projects\\Diabetic\\Dataset\\train_images/'\n",
    "\n",
    "if not os.path.exists(\"train_split\" + \"2\"):\n",
    "        os.mkdir(\"train_split\" + \"2\")\n",
    "for i in id_2:\n",
    "    src_path = train_dir + i + \".png\"\n",
    "    dst_path = \"train_split\" + \"2\" + \"/\" + i + \".png\"\n",
    "    shutil.copy(src_path, dst_path)"
   ]
  },
  {
   "cell_type": "code",
   "execution_count": 39,
   "metadata": {},
   "outputs": [],
   "source": [
    "train_dir = r'D:\\Rammohan\\AI ML Projects\\Diabetic\\Dataset\\train_images/'\n",
    "\n",
    "if not os.path.exists(\"train_split\" + \"3\"):\n",
    "        os.mkdir(\"train_split\" + \"3\")\n",
    "for i in id_3:\n",
    "    src_path = train_dir + i + \".png\"\n",
    "    dst_path = \"train_split\" + \"3\" + \"/\" + i + \".png\"\n",
    "    shutil.copy(src_path, dst_path)"
   ]
  },
  {
   "cell_type": "code",
   "execution_count": 40,
   "metadata": {},
   "outputs": [],
   "source": [
    "train_dir = r'D:\\Rammohan\\AI ML Projects\\Diabetic\\Dataset\\train_images/'\n",
    "\n",
    "if not os.path.exists(\"train_split\" + \"4\"):\n",
    "        os.mkdir(\"train_split\" + \"4\")\n",
    "for i in id_4:\n",
    "    src_path = train_dir + i + \".png\"\n",
    "    dst_path = \"train_split\" + \"4\" + \"/\" + i + \".png\"\n",
    "    shutil.copy(src_path, dst_path)"
   ]
  },
  {
   "cell_type": "code",
   "execution_count": 41,
   "metadata": {},
   "outputs": [],
   "source": [
    "train_dir = r'D:\\Rammohan\\AI ML Projects\\Diabetic\\Dataset\\train_images/'\n",
    "\n",
    "if not os.path.exists(\"train_split\" + \"0\"):\n",
    "        os.mkdir(\"train_split\" + \"0\")\n",
    "for i in id_5:\n",
    "    src_path = train_dir + i + \".png\"\n",
    "    dst_path = \"train_split\" + \"0\" + \"/\" + i + \".png\"\n",
    "    shutil.copy(src_path, dst_path)"
   ]
  },
  {
   "cell_type": "code",
   "execution_count": null,
   "metadata": {},
   "outputs": [],
   "source": []
  }
 ],
 "metadata": {
  "kernelspec": {
   "display_name": "Python 3",
   "language": "python",
   "name": "python3"
  },
  "language_info": {
   "codemirror_mode": {
    "name": "ipython",
    "version": 3
   },
   "file_extension": ".py",
   "mimetype": "text/x-python",
   "name": "python",
   "nbconvert_exporter": "python",
   "pygments_lexer": "ipython3",
   "version": "3.8.5"
  }
 },
 "nbformat": 4,
 "nbformat_minor": 4
}
