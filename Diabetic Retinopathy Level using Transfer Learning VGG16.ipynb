{
 "cells": [
  {
   "cell_type": "code",
   "execution_count": 1,
   "metadata": {},
   "outputs": [],
   "source": [
    "from tensorflow.keras.layers import Input, Lambda, Dense, Flatten\n",
    "from tensorflow.keras.models import Model\n",
    "from tensorflow.keras.applications.vgg16 import VGG16\n",
    "from tensorflow.keras.applications.vgg16 import preprocess_input\n",
    "from tensorflow.keras.preprocessing import image\n",
    "from tensorflow.keras.preprocessing.image import ImageDataGenerator,load_img\n",
    "from tensorflow.keras.models import Sequential\n",
    "import numpy as np\n",
    "from glob import glob"
   ]
  },
  {
   "cell_type": "code",
   "execution_count": 2,
   "metadata": {},
   "outputs": [],
   "source": [
    "# re-size all the images to this\n",
    "IMAGE_SIZE = [224, 224]\n",
    "\n",
    "train_path = r'D:\\Rammohan\\AI ML Projects\\Diabetic\\dataset-main\\training'\n",
    "valid_path = r'D:\\Rammohan\\AI ML Projects\\Diabetic\\dataset-main\\testing'"
   ]
  },
  {
   "cell_type": "code",
   "execution_count": 3,
   "metadata": {},
   "outputs": [],
   "source": [
    "vgg = VGG16(input_shape=IMAGE_SIZE + [3], weights='imagenet', include_top=False)"
   ]
  },
  {
   "cell_type": "code",
   "execution_count": 4,
   "metadata": {},
   "outputs": [],
   "source": [
    "# don't train existing weights\n",
    "#remove kast layer\n",
    "for layer in vgg.layers:\n",
    "    layer.trainable = False"
   ]
  },
  {
   "cell_type": "code",
   "execution_count": 9,
   "metadata": {},
   "outputs": [
    {
     "name": "stdout",
     "output_type": "stream",
     "text": [
      "['dataset-main/training\\\\0', 'dataset-main/training\\\\1', 'dataset-main/training\\\\2', 'dataset-main/training\\\\3', 'dataset-main/training\\\\4']\n"
     ]
    }
   ],
   "source": [
    "#for getting number of output classes\n",
    "folders = glob('dataset-main/training/*')\n",
    "print(folders)"
   ]
  },
  {
   "cell_type": "code",
   "execution_count": 6,
   "metadata": {},
   "outputs": [],
   "source": [
    "# our layers - you can add more if you want\n",
    "x = Flatten()(vgg.output)"
   ]
  },
  {
   "cell_type": "code",
   "execution_count": 7,
   "metadata": {},
   "outputs": [],
   "source": [
    "prediction = Dense(len(folders), activation='softmax')(x)\n",
    "\n",
    "# create a model object\n",
    "model = Model(inputs=vgg.input, outputs=prediction)"
   ]
  },
  {
   "cell_type": "code",
   "execution_count": 8,
   "metadata": {},
   "outputs": [
    {
     "name": "stdout",
     "output_type": "stream",
     "text": [
      "Model: \"model\"\n",
      "_________________________________________________________________\n",
      "Layer (type)                 Output Shape              Param #   \n",
      "=================================================================\n",
      "input_1 (InputLayer)         [(None, 224, 224, 3)]     0         \n",
      "_________________________________________________________________\n",
      "block1_conv1 (Conv2D)        (None, 224, 224, 64)      1792      \n",
      "_________________________________________________________________\n",
      "block1_conv2 (Conv2D)        (None, 224, 224, 64)      36928     \n",
      "_________________________________________________________________\n",
      "block1_pool (MaxPooling2D)   (None, 112, 112, 64)      0         \n",
      "_________________________________________________________________\n",
      "block2_conv1 (Conv2D)        (None, 112, 112, 128)     73856     \n",
      "_________________________________________________________________\n",
      "block2_conv2 (Conv2D)        (None, 112, 112, 128)     147584    \n",
      "_________________________________________________________________\n",
      "block2_pool (MaxPooling2D)   (None, 56, 56, 128)       0         \n",
      "_________________________________________________________________\n",
      "block3_conv1 (Conv2D)        (None, 56, 56, 256)       295168    \n",
      "_________________________________________________________________\n",
      "block3_conv2 (Conv2D)        (None, 56, 56, 256)       590080    \n",
      "_________________________________________________________________\n",
      "block3_conv3 (Conv2D)        (None, 56, 56, 256)       590080    \n",
      "_________________________________________________________________\n",
      "block3_pool (MaxPooling2D)   (None, 28, 28, 256)       0         \n",
      "_________________________________________________________________\n",
      "block4_conv1 (Conv2D)        (None, 28, 28, 512)       1180160   \n",
      "_________________________________________________________________\n",
      "block4_conv2 (Conv2D)        (None, 28, 28, 512)       2359808   \n",
      "_________________________________________________________________\n",
      "block4_conv3 (Conv2D)        (None, 28, 28, 512)       2359808   \n",
      "_________________________________________________________________\n",
      "block4_pool (MaxPooling2D)   (None, 14, 14, 512)       0         \n",
      "_________________________________________________________________\n",
      "block5_conv1 (Conv2D)        (None, 14, 14, 512)       2359808   \n",
      "_________________________________________________________________\n",
      "block5_conv2 (Conv2D)        (None, 14, 14, 512)       2359808   \n",
      "_________________________________________________________________\n",
      "block5_conv3 (Conv2D)        (None, 14, 14, 512)       2359808   \n",
      "_________________________________________________________________\n",
      "block5_pool (MaxPooling2D)   (None, 7, 7, 512)         0         \n",
      "_________________________________________________________________\n",
      "flatten (Flatten)            (None, 25088)             0         \n",
      "_________________________________________________________________\n",
      "dense (Dense)                (None, 5)                 125445    \n",
      "=================================================================\n",
      "Total params: 14,840,133\n",
      "Trainable params: 125,445\n",
      "Non-trainable params: 14,714,688\n",
      "_________________________________________________________________\n"
     ]
    }
   ],
   "source": [
    "# view the structure of the model\n",
    "model.summary()"
   ]
  },
  {
   "cell_type": "code",
   "execution_count": 10,
   "metadata": {},
   "outputs": [],
   "source": [
    "#cost and optimization method\n",
    "model.compile(loss='categorical_crossentropy',optimizer='adam',metrics=['accuracy'])"
   ]
  },
  {
   "cell_type": "code",
   "execution_count": 11,
   "metadata": {},
   "outputs": [],
   "source": [
    "# Use the Image Data Generator to import the images from the dataset\n",
    "from tensorflow.keras.preprocessing.image import ImageDataGenerator\n",
    "\n",
    "train_datagen = ImageDataGenerator(rescale = 1./255,\n",
    "                                   shear_range = 0.2,\n",
    "                                   zoom_range = 0.2,\n",
    "                                   horizontal_flip = True)\n",
    "\n",
    "test_datagen = ImageDataGenerator(rescale = 1./255)"
   ]
  },
  {
   "cell_type": "code",
   "execution_count": 12,
   "metadata": {},
   "outputs": [
    {
     "name": "stdout",
     "output_type": "stream",
     "text": [
      "Found 3662 images belonging to 5 classes.\n"
     ]
    }
   ],
   "source": [
    "# Make sure you provide the same target size as initialied for the image size\n",
    "training_set = train_datagen.flow_from_directory('dataset-main/training',\n",
    "                                                 target_size = (224, 224),\n",
    "                                                 batch_size = 128,\n",
    "                                                 class_mode = 'categorical')"
   ]
  },
  {
   "cell_type": "code",
   "execution_count": 14,
   "metadata": {},
   "outputs": [
    {
     "name": "stdout",
     "output_type": "stream",
     "text": [
      "Found 734 images belonging to 5 classes.\n"
     ]
    }
   ],
   "source": [
    "# Make sure you provide the same target size as initialied for the image size\n",
    "testing_set = test_datagen.flow_from_directory('dataset-main/testing',\n",
    "                                                 target_size = (224, 224),\n",
    "                                                 batch_size = 128,\n",
    "                                                 class_mode = 'categorical')"
   ]
  },
  {
   "cell_type": "code",
   "execution_count": 15,
   "metadata": {},
   "outputs": [
    {
     "name": "stderr",
     "output_type": "stream",
     "text": [
      "C:\\Users\\smartbridge\\anaconda3\\lib\\site-packages\\tensorflow\\python\\keras\\engine\\training.py:1844: UserWarning: `Model.fit_generator` is deprecated and will be removed in a future version. Please use `Model.fit`, which supports generators.\n",
      "  warnings.warn('`Model.fit_generator` is deprecated and '\n"
     ]
    },
    {
     "name": "stdout",
     "output_type": "stream",
     "text": [
      "Epoch 1/10\n",
      "23/23 [==============================] - 514s 22s/step - loss: 1.5696 - accuracy: 0.5232 - val_loss: 1.0279 - val_accuracy: 0.7057\n",
      "Epoch 2/10\n",
      "23/23 [==============================] - 516s 23s/step - loss: 0.9878 - accuracy: 0.6669 - val_loss: 0.7652 - val_accuracy: 0.7166\n",
      "Epoch 3/10\n",
      "23/23 [==============================] - 488s 21s/step - loss: 0.8821 - accuracy: 0.6811 - val_loss: 0.8215 - val_accuracy: 0.7112\n",
      "Epoch 4/10\n",
      "23/23 [==============================] - 490s 22s/step - loss: 1.0339 - accuracy: 0.6493 - val_loss: 0.7537 - val_accuracy: 0.7084\n",
      "Epoch 5/10\n",
      "23/23 [==============================] - 510s 22s/step - loss: 0.8228 - accuracy: 0.6799 - val_loss: 0.9513 - val_accuracy: 0.6649\n",
      "Epoch 6/10\n",
      "23/23 [==============================] - 498s 22s/step - loss: 0.7703 - accuracy: 0.7341 - val_loss: 0.6700 - val_accuracy: 0.7534\n",
      "Epoch 7/10\n",
      "23/23 [==============================] - 539s 24s/step - loss: 0.7223 - accuracy: 0.7146 - val_loss: 0.7019 - val_accuracy: 0.7439\n",
      "Epoch 8/10\n",
      "23/23 [==============================] - 508s 22s/step - loss: 0.7596 - accuracy: 0.7110 - val_loss: 0.6117 - val_accuracy: 0.7575\n",
      "Epoch 9/10\n",
      "23/23 [==============================] - 485s 21s/step - loss: 0.7042 - accuracy: 0.7223 - val_loss: 0.9202 - val_accuracy: 0.7398\n",
      "Epoch 10/10\n",
      "23/23 [==============================] - 496s 22s/step - loss: 0.7860 - accuracy: 0.7319 - val_loss: 0.6937 - val_accuracy: 0.7643\n"
     ]
    }
   ],
   "source": [
    "# fit the model\n",
    "history = model.fit_generator(training_set,\n",
    "                              validation_data=testing_set,\n",
    "                              epochs=5,\n",
    "                              steps_per_epoch=len(training_set),\n",
    "                              validation_steps=len(testing_set))"
   ]
  },
  {
   "cell_type": "code",
   "execution_count": 16,
   "metadata": {},
   "outputs": [],
   "source": [
    "model.save('diabetic.h5')"
   ]
  },
  {
   "cell_type": "code",
   "execution_count": 17,
   "metadata": {},
   "outputs": [],
   "source": [
    "import matplotlib.pyplot as plt"
   ]
  },
  {
   "cell_type": "code",
   "execution_count": 21,
   "metadata": {},
   "outputs": [
    {
     "data": {
      "image/png": "[encoded data removed]",
      "text/plain": [
       "<Figure size 432x288 with 1 Axes>"
      ]
     },
     "metadata": {
      "needs_background": "light"
     },
     "output_type": "display_data"
    },
    {
     "data": {
      "image/png": "[encoded data removed]",
      "text/plain": [
       "<Figure size 432x288 with 1 Axes>"
      ]
     },
     "metadata": {
      "needs_background": "light"
     },
     "output_type": "display_data"
    },
    {
     "data": {
      "text/plain": [
       "<Figure size 432x288 with 0 Axes>"
      ]
     },
     "metadata": {},
     "output_type": "display_data"
    }
   ],
   "source": [
    "# plot the loss\n",
    "plt.plot(history.history['loss'], label='train loss')\n",
    "plt.plot(history.history['val_loss'], label='val loss')\n",
    "plt.legend()\n",
    "plt.show()\n",
    "plt.savefig('LossVal_loss')\n",
    "\n",
    "# plot the accuracy\n",
    "plt.plot(history.history['accuracy'], label='train acc')\n",
    "plt.plot(history.history['val_accuracy'], label='val acc')\n",
    "plt.legend()\n",
    "plt.show()\n",
    "plt.savefig('AccVal_acc')"
   ]
  },
  {
   "cell_type": "code",
   "execution_count": null,
   "metadata": {},
   "outputs": [],
   "source": []
  },
  {
   "cell_type": "code",
   "execution_count": 22,
   "metadata": {},
   "outputs": [],
   "source": [
    "from tensorflow.keras.models import load_model"
   ]
  },
  {
   "cell_type": "code",
   "execution_count": 23,
   "metadata": {},
   "outputs": [
    {
     "data": {
      "text/plain": [
       "array([[9.9945968e-01, 3.2724623e-05, 4.4604170e-04, 4.2422475e-06,\n",
       "        5.7228852e-05],\n",
       "       [1.5823907e-01, 1.3998413e-01, 6.8489599e-01, 3.7085412e-03,\n",
       "        1.3172372e-02],\n",
       "       [7.1865571e-01, 1.7000604e-01, 1.0888760e-01, 1.0744389e-03,\n",
       "        1.3762192e-03],\n",
       "       ...,\n",
       "       [3.0829105e-01, 1.4416593e-01, 4.9092549e-01, 3.4495328e-02,\n",
       "        2.2122143e-02],\n",
       "       [4.3363795e-01, 2.2345522e-01, 3.0342954e-01, 2.8627535e-02,\n",
       "        1.0849807e-02],\n",
       "       [3.2677251e-01, 6.2419802e-02, 3.2094991e-01, 1.3820435e-02,\n",
       "        2.7603731e-01]], dtype=float32)"
      ]
     },
     "execution_count": 23,
     "metadata": {},
     "output_type": "execute_result"
    }
   ],
   "source": [
    "y_pred = model.predict(testing_set)\n",
    "y_pred"
   ]
  },
  {
   "cell_type": "code",
   "execution_count": 24,
   "metadata": {},
   "outputs": [],
   "source": [
    "import numpy as np\n",
    "y_pred = np.argmax(y_pred, axis=1)"
   ]
  },
  {
   "cell_type": "code",
   "execution_count": 25,
   "metadata": {},
   "outputs": [
    {
     "data": {
      "text/plain": [
       "array([0, 2, 0, 1, 0, 2, 0, 1, 0, 2, 0, 2, 0, 2, 2, 0, 0, 0, 0, 0, 2, 0,\n",
       "       2, 2, 2, 0, 0, 2, 2, 0, 0, 2, 2, 2, 2, 0, 0, 2, 0, 0, 0, 0, 0, 0,\n",
       "       0, 0, 0, 2, 1, 2, 0, 0, 0, 2, 1, 0, 2, 0, 2, 2, 2, 2, 2, 2, 0, 0,\n",
       "       0, 0, 2, 0, 0, 2, 2, 0, 0, 0, 0, 2, 2, 0, 2, 0, 2, 0, 1, 0, 2, 2,\n",
       "       0, 0, 0, 2, 2, 2, 0, 0, 2, 0, 0, 2, 1, 2, 0, 2, 0, 0, 0, 0, 2, 2,\n",
       "       0, 2, 2, 2, 2, 0, 0, 2, 0, 1, 0, 2, 2, 0, 0, 0, 2, 0, 2, 0, 0, 0,\n",
       "       2, 0, 0, 2, 0, 0, 0, 2, 0, 1, 2, 0, 2, 0, 0, 0, 2, 2, 2, 0, 0, 0,\n",
       "       2, 2, 2, 2, 2, 0, 2, 2, 0, 0, 2, 1, 0, 0, 0, 2, 0, 0, 2, 2, 0, 2,\n",
       "       2, 0, 0, 2, 0, 0, 2, 2, 0, 2, 0, 0, 0, 0, 2, 4, 0, 2, 0, 1, 1, 1,\n",
       "       2, 0, 0, 2, 0, 0, 0, 0, 2, 0, 0, 0, 0, 0, 0, 2, 0, 2, 0, 2, 2, 0,\n",
       "       0, 0, 2, 0, 2, 0, 1, 0, 2, 0, 2, 2, 2, 2, 0, 0, 0, 2, 2, 2, 2, 0,\n",
       "       2, 2, 0, 0, 2, 0, 0, 2, 2, 2, 2, 2, 0, 0, 2, 0, 0, 2, 0, 0, 0, 0,\n",
       "       0, 0, 0, 2, 2, 1, 0, 0, 2, 0, 2, 2, 2, 2, 0, 2, 0, 0, 2, 2, 2, 1,\n",
       "       3, 3, 2, 2, 0, 0, 2, 0, 2, 2, 0, 0, 0, 0, 0, 0, 2, 2, 2, 0, 0, 0,\n",
       "       0, 2, 0, 2, 2, 0, 0, 1, 2, 0, 0, 0, 2, 2, 2, 0, 2, 0, 0, 2, 0, 0,\n",
       "       2, 1, 2, 0, 0, 0, 2, 2, 0, 1, 0, 2, 2, 0, 0, 2, 2, 2, 2, 0, 0, 2,\n",
       "       0, 2, 2, 0, 0, 2, 2, 3, 0, 0, 0, 0, 0, 2, 0, 0, 0, 0, 0, 1, 0, 0,\n",
       "       0, 1, 2, 0, 0, 2, 2, 2, 2, 0, 0, 0, 0, 0, 0, 2, 0, 2, 0, 2, 2, 0,\n",
       "       2, 2, 2, 2, 0, 0, 0, 0, 0, 2, 0, 2, 2, 0, 2, 2, 0, 2, 0, 0, 0, 0,\n",
       "       2, 4, 0, 2, 2, 0, 1, 0, 0, 2, 2, 0, 2, 0, 0, 2, 2, 0, 2, 0, 2, 0,\n",
       "       0, 0, 0, 0, 0, 0, 0, 2, 0, 0, 2, 2, 2, 0, 2, 2, 0, 2, 0, 0, 2, 2,\n",
       "       0, 0, 0, 0, 0, 2, 0, 2, 2, 2, 0, 2, 2, 0, 0, 2, 2, 0, 0, 0, 2, 0,\n",
       "       0, 0, 2, 0, 0, 0, 2, 0, 0, 2, 0, 2, 4, 2, 2, 0, 2, 0, 0, 2, 1, 2,\n",
       "       0, 2, 2, 0, 2, 0, 0, 0, 0, 2, 1, 0, 0, 2, 0, 0, 0, 0, 2, 0, 0, 2,\n",
       "       0, 2, 0, 2, 0, 0, 0, 2, 2, 2, 2, 0, 2, 0, 2, 2, 2, 2, 1, 1, 0, 2,\n",
       "       2, 0, 0, 0, 0, 2, 0, 2, 0, 0, 0, 0, 2, 0, 2, 2, 0, 0, 2, 2, 0, 1,\n",
       "       0, 0, 0, 0, 0, 1, 0, 0, 0, 2, 2, 0, 0, 2, 2, 0, 2, 0, 0, 2, 0, 2,\n",
       "       2, 2, 0, 0, 0, 2, 0, 0, 0, 0, 0, 2, 0, 0, 2, 2, 0, 0, 2, 2, 2, 2,\n",
       "       0, 2, 0, 0, 0, 0, 0, 0, 0, 2, 0, 2, 2, 2, 2, 0, 0, 0, 0, 3, 0, 2,\n",
       "       2, 2, 3, 0, 0, 0, 0, 0, 0, 0, 0, 0, 2, 2, 2, 0, 2, 0, 0, 0, 0, 2,\n",
       "       0, 0, 2, 2, 2, 0, 2, 2, 2, 0, 2, 0, 0, 2, 2, 0, 2, 2, 2, 2, 0, 2,\n",
       "       0, 2, 2, 0, 0, 2, 2, 0, 0, 0, 1, 2, 2, 0, 0, 0, 0, 2, 0, 0, 2, 2,\n",
       "       0, 1, 3, 2, 0, 0, 0, 0, 2, 2, 2, 0, 0, 0, 0, 1, 2, 0, 0, 2, 0, 2,\n",
       "       0, 0, 0, 2, 0, 2, 0, 0], dtype=int64)"
      ]
     },
     "execution_count": 25,
     "metadata": {},
     "output_type": "execute_result"
    }
   ],
   "source": [
    "y_pred"
   ]
  },
  {
   "cell_type": "code",
   "execution_count": 26,
   "metadata": {},
   "outputs": [],
   "source": [
    "from tensorflow.keras.models import load_model\n",
    "from tensorflow.keras.preprocessing import image"
   ]
  },
  {
   "cell_type": "code",
   "execution_count": 40,
   "metadata": {},
   "outputs": [],
   "source": [
    "model=load_model('diabetic.h5')"
   ]
  },
  {
   "cell_type": "code",
   "execution_count": 77,
   "metadata": {},
   "outputs": [],
   "source": [
    "img=image.load_img(r'D:\\Rammohan\\AI ML Projects\\Diabetic\\dataset-main\\testing\\4\\d271d3a2b552.png',target_size=(224,224))"
   ]
  },
  {
   "cell_type": "code",
   "execution_count": 78,
   "metadata": {
    "collapsed": true
   },
   "outputs": [
    {
     "data": {
      "text/plain": [
       "array([[[3., 1., 2.],\n",
       "        [3., 1., 2.],\n",
       "        [3., 1., 2.],\n",
       "        ...,\n",
       "        [3., 1., 2.],\n",
       "        [3., 1., 2.],\n",
       "        [3., 1., 2.]],\n",
       "\n",
       "       [[3., 1., 2.],\n",
       "        [3., 1., 2.],\n",
       "        [3., 1., 2.],\n",
       "        ...,\n",
       "        [3., 1., 2.],\n",
       "        [3., 1., 2.],\n",
       "        [3., 1., 2.]],\n",
       "\n",
       "       [[3., 1., 2.],\n",
       "        [3., 1., 2.],\n",
       "        [3., 1., 2.],\n",
       "        ...,\n",
       "        [3., 1., 2.],\n",
       "        [3., 1., 2.],\n",
       "        [3., 1., 2.]],\n",
       "\n",
       "       ...,\n",
       "\n",
       "       [[3., 1., 2.],\n",
       "        [3., 1., 2.],\n",
       "        [3., 1., 2.],\n",
       "        ...,\n",
       "        [3., 1., 2.],\n",
       "        [3., 1., 2.],\n",
       "        [3., 1., 2.]],\n",
       "\n",
       "       [[3., 1., 2.],\n",
       "        [3., 1., 2.],\n",
       "        [3., 1., 2.],\n",
       "        ...,\n",
       "        [3., 1., 2.],\n",
       "        [3., 1., 2.],\n",
       "        [3., 1., 2.]],\n",
       "\n",
       "       [[3., 1., 2.],\n",
       "        [3., 1., 2.],\n",
       "        [3., 1., 2.],\n",
       "        ...,\n",
       "        [3., 1., 2.],\n",
       "        [3., 1., 2.],\n",
       "        [3., 1., 2.]]], dtype=float32)"
      ]
     },
     "execution_count": 78,
     "metadata": {},
     "output_type": "execute_result"
    }
   ],
   "source": [
    "x=image.img_to_array(img)\n",
    "x"
   ]
  },
  {
   "cell_type": "code",
   "execution_count": 79,
   "metadata": {},
   "outputs": [
    {
     "data": {
      "text/plain": [
       "(224, 224, 3)"
      ]
     },
     "execution_count": 79,
     "metadata": {},
     "output_type": "execute_result"
    }
   ],
   "source": [
    "x.shape"
   ]
  },
  {
   "cell_type": "code",
   "execution_count": 80,
   "metadata": {},
   "outputs": [
    {
     "data": {
      "text/plain": [
       "(1, 224, 224, 3)"
      ]
     },
     "execution_count": 80,
     "metadata": {},
     "output_type": "execute_result"
    }
   ],
   "source": [
    "import numpy as np\n",
    "x=np.expand_dims(x,axis=0)\n",
    "img_data=preprocess_input(x)\n",
    "img_data.shape"
   ]
  },
  {
   "cell_type": "code",
   "execution_count": 81,
   "metadata": {},
   "outputs": [
    {
     "data": {
      "text/plain": [
       "array([[1.0000000e+00, 0.0000000e+00, 1.4347949e-17, 0.0000000e+00,\n",
       "        0.0000000e+00]], dtype=float32)"
      ]
     },
     "execution_count": 81,
     "metadata": {},
     "output_type": "execute_result"
    }
   ],
   "source": [
    "model.predict(img_data)"
   ]
  },
  {
   "cell_type": "code",
   "execution_count": 82,
   "metadata": {},
   "outputs": [],
   "source": [
    "a=np.argmax(model.predict(img_data), axis=1)"
   ]
  },
  {
   "cell_type": "code",
   "execution_count": 83,
   "metadata": {},
   "outputs": [
    {
     "data": {
      "text/plain": [
       "'0'"
      ]
     },
     "execution_count": 83,
     "metadata": {},
     "output_type": "execute_result"
    }
   ],
   "source": [
    "index=['0', '1', '2', '3', '4']\n",
    "result = str(index[a[0]])\n",
    "result"
   ]
  },
  {
   "cell_type": "code",
   "execution_count": null,
   "metadata": {},
   "outputs": [],
   "source": []
  },
  {
   "cell_type": "code",
   "execution_count": null,
   "metadata": {},
   "outputs": [],
   "source": []
  }
 ],
 "metadata": {
  "kernelspec": {
   "display_name": "Python 3",
   "language": "python",
   "name": "python3"
  },
  "language_info": {
   "codemirror_mode": {
    "name": "ipython",
    "version": 3
   },
   "file_extension": ".py",
   "mimetype": "text/x-python",
   "name": "python",
   "nbconvert_exporter": "python",
   "pygments_lexer": "ipython3",
   "version": "3.8.5"
  }
 },
 "nbformat": 4,
 "nbformat_minor": 4
}
